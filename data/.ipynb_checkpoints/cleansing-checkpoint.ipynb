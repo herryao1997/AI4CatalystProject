{
 "cells": [
  {
   "cell_type": "code",
   "execution_count": 1,
   "id": "initial_id",
   "metadata": {
    "ExecuteTime": {
     "end_time": "2025-02-03T08:22:31.056724Z",
     "start_time": "2025-02-03T08:22:31.054629Z"
    }
   },
   "outputs": [
    {
     "ename": "ModuleNotFoundError",
     "evalue": "No module named 'plotly'",
     "output_type": "error",
     "traceback": [
      "\u001b[0;31m---------------------------------------------------------------------------\u001b[0m",
      "\u001b[0;31mModuleNotFoundError\u001b[0m                       Traceback (most recent call last)",
      "Cell \u001b[0;32mIn [1], line 7\u001b[0m\n\u001b[1;32m      5\u001b[0m \u001b[38;5;28;01mimport\u001b[39;00m \u001b[38;5;21;01mseaborn\u001b[39;00m \u001b[38;5;28;01mas\u001b[39;00m \u001b[38;5;21;01msns\u001b[39;00m\n\u001b[1;32m      6\u001b[0m \u001b[38;5;28;01mimport\u001b[39;00m \u001b[38;5;21;01mmatplotlib\u001b[39;00m\u001b[38;5;21;01m.\u001b[39;00m\u001b[38;5;21;01mpyplot\u001b[39;00m \u001b[38;5;28;01mas\u001b[39;00m \u001b[38;5;21;01mplt\u001b[39;00m\n\u001b[0;32m----> 7\u001b[0m \u001b[38;5;28;01mimport\u001b[39;00m \u001b[38;5;21;01mplotly\u001b[39;00m\u001b[38;5;21;01m.\u001b[39;00m\u001b[38;5;21;01mgraph_objects\u001b[39;00m \u001b[38;5;28;01mas\u001b[39;00m \u001b[38;5;21;01mgo\u001b[39;00m  \u001b[38;5;66;03m# 如果想用plotly的Sankey\u001b[39;00m\n\u001b[1;32m      8\u001b[0m \u001b[38;5;66;03m# 如果你想用matplotlib的 sankey, from matplotlib.sankey import Sankey\u001b[39;00m\n\u001b[1;32m      9\u001b[0m \n\u001b[1;32m     10\u001b[0m \u001b[38;5;66;03m# Ensure you have your CSV path\u001b[39;00m\n\u001b[1;32m     11\u001b[0m CSV_PATH \u001b[38;5;241m=\u001b[39m \u001b[38;5;124m\"\u001b[39m\u001b[38;5;124mDataset_20250205_final.csv\u001b[39m\u001b[38;5;124m\"\u001b[39m  \u001b[38;5;66;03m# or your actual data path\u001b[39;00m\n",
      "\u001b[0;31mModuleNotFoundError\u001b[0m: No module named 'plotly'"
     ]
    }
   ],
   "source": [
    "# In [2]\n",
    "\n",
    "import pandas as pd\n",
    "import numpy as np\n",
    "import seaborn as sns\n",
    "import matplotlib.pyplot as plt\n",
    "import plotly.graph_objects as go  # 如果想用plotly的Sankey\n",
    "# 如果你想用matplotlib的 sankey, from matplotlib.sankey import Sankey\n",
    "\n",
    "# Ensure you have your CSV path\n",
    "CSV_PATH = \"Dataset_20250205_final.csv\"  # or your actual data path\n",
    "\n",
    "df = pd.read_csv(CSV_PATH)\n",
    "\n",
    "print(\"Data Shape:\", df.shape)\n",
    "df.head()\n"
   ]
  },
  {
   "cell_type": "code",
   "execution_count": 9,
   "id": "5b4aa5931d24e1f1",
   "metadata": {
    "ExecuteTime": {
     "end_time": "2025-02-03T08:24:41.413678Z",
     "start_time": "2025-02-03T08:24:41.409490Z"
    }
   },
   "outputs": [],
   "source": [
    "# In [3]\n",
    "\n",
    "# Let's define X_df = first 10 columns\n",
    "X_df = df.iloc[:, :10].copy()\n",
    "\n",
    "# We can check which columns are numeric vs categorical\n",
    "num_cols = X_df.select_dtypes(include=[np.number]).columns.tolist()\n",
    "cat_cols = X_df.select_dtypes(include=['object']).columns.tolist()\n",
    "\n",
    "print(\"Numeric columns:\", num_cols)\n",
    "print(\"Categorical columns:\", cat_cols)\n"
   ]
  },
  {
   "cell_type": "code",
   "execution_count": 10,
   "id": "4bbd7ee1f6d738cc",
   "metadata": {
    "ExecuteTime": {
     "end_time": "2025-02-03T08:24:42.248259Z",
     "start_time": "2025-02-03T08:24:42.236422Z"
    }
   },
   "outputs": [
    {
     "name": "stdout",
     "output_type": "stream",
     "text": [
      "df.isna().sum():\n",
      " Active metal             1\n",
      "Derived                  1\n",
      "Electrode support        8\n",
      "Catalyst size            1\n",
      "Potential                1\n",
      "Anion Electrolyte        1\n",
      "[C] of Anion (M)         1\n",
      "Cation Electrolyte       1\n",
      "[C] of Cation (M)        1\n",
      "Membrane                 1\n",
      "Unnamed: 10            364\n",
      "H2                       1\n",
      "CO                       1\n",
      "C1                       1\n",
      "C2+                      1\n",
      "Unnamed: 15            364\n",
      "Paper                  337\n",
      "Unnamed: 17            364\n",
      "Unnamed: 18            364\n",
      "dtype: int64\n",
      "(array([[-0.846,  0.1  ,  0.1  , ...,  0.   ,  0.   ,  1.   ],\n",
      "       [-0.926,  0.1  ,  0.1  , ...,  0.   ,  0.   ,  1.   ],\n",
      "       [-0.98 ,  0.1  ,  0.1  , ...,  0.   ,  0.   ,  1.   ],\n",
      "       ...,\n",
      "       [-0.395,  0.1  ,  0.1  , ...,  0.   ,  0.   ,  0.   ],\n",
      "       [-0.295,  0.1  ,  0.1  , ...,  0.   ,  0.   ,  0.   ],\n",
      "       [   nan,    nan,    nan, ...,  0.   ,  0.   ,  0.   ]]), array([[24.4       , 19.6       , 26.265     , 29.74      ],\n",
      "       [16.8       ,  9.2       , 16.7245    , 57.2755    ],\n",
      "       [15.2       ,  6.8       , 15.7275    , 62.2725    ],\n",
      "       ...,\n",
      "       [85.33916849,  2.37068966,  6.51898734,  0.        ],\n",
      "       [97.37417943,  1.07758621,  4.6835443 ,  0.        ],\n",
      "       [        nan,         nan,         nan,         nan]]), [0, 1, 2])\n"
     ]
    }
   ],
   "source": []
  },
  {
   "cell_type": "code",
   "execution_count": null,
   "id": "667187c750fc3bc3",
   "metadata": {},
   "outputs": [],
   "source": []
  }
 ],
 "metadata": {
  "kernelspec": {
   "display_name": "Python 3",
   "language": "python",
   "name": "python3"
  },
  "language_info": {
   "codemirror_mode": {
    "name": "ipython",
    "version": 3
   },
   "file_extension": ".py",
   "mimetype": "text/x-python",
   "name": "python",
   "nbconvert_exporter": "python",
   "pygments_lexer": "ipython3",
   "version": "3.8.16"
  },
  "toc": {
   "base_numbering": 1,
   "nav_menu": {},
   "number_sections": true,
   "sideBar": true,
   "skip_h1_title": false,
   "title_cell": "Table of Contents",
   "title_sidebar": "Contents",
   "toc_cell": false,
   "toc_position": {},
   "toc_section_display": true,
   "toc_window_display": false
  }
 },
 "nbformat": 4,
 "nbformat_minor": 5
}
